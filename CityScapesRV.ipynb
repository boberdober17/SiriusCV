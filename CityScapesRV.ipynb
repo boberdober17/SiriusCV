{
 "cells": [
  {
   "cell_type": "code",
   "execution_count": 2,
   "metadata": {},
   "outputs": [
    {
     "name": "stderr",
     "output_type": "stream",
     "text": [
      "Cloning into 'cityscapesScripts'...\n"
     ]
    }
   ],
   "source": [
    "%%bash\n",
    "git clone https://github.com/mcordts/cityscapesScripts"
   ]
  },
  {
   "cell_type": "code",
   "execution_count": 7,
   "metadata": {},
   "outputs": [],
   "source": [
    "import cityscapesScripts"
   ]
  },
  {
   "cell_type": "code",
   "execution_count": 8,
   "metadata": {},
   "outputs": [
    {
     "name": "stdout",
     "output_type": "stream",
     "text": [
      "gtFine\n",
      "gtFine_trainvaltest.zip\n",
      "license.txt\n",
      "__MACOSX\n",
      "README\n",
      "seminar_image_processing_intro.ipynb\n",
      "sem.zip\n",
      "tiger-border.png\n",
      "tiger-color.png\n",
      "tiger-yellow-nose.png\n"
     ]
    }
   ],
   "source": [
    "%%bash\n",
    "ls /home/rvygon/data"
   ]
  },
  {
   "cell_type": "code",
   "execution_count": null,
   "metadata": {
    "collapsed": true
   },
   "outputs": [],
   "source": []
  }
 ],
 "metadata": {
  "kernelspec": {
   "display_name": "Python 3",
   "language": "python",
   "name": "python3"
  },
  "language_info": {
   "codemirror_mode": {
    "name": "ipython",
    "version": 3
   },
   "file_extension": ".py",
   "mimetype": "text/x-python",
   "name": "python",
   "nbconvert_exporter": "python",
   "pygments_lexer": "ipython3",
   "version": "3.6.6"
  }
 },
 "nbformat": 4,
 "nbformat_minor": 2
}
